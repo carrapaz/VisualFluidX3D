{
 "cells": [
  {
   "cell_type": "markdown",
   "id": "b62d01bc-6712-41ac-96cd-dd3f4813b7f8",
   "metadata": {},
   "source": [
    "# Environment set-up"
   ]
  },
  {
   "cell_type": "code",
   "execution_count": 3,
   "id": "afa98b40-945f-4707-9eb7-9f9c6fecef85",
   "metadata": {
    "scrolled": true
   },
   "outputs": [
    {
     "ename": "CalledProcessError",
     "evalue": "Command '['source', 'myenv\\\\Scripts\\\\activate']' returned non-zero exit status 1.",
     "output_type": "error",
     "traceback": [
      "\u001b[1;31m---------------------------------------------------------------------------\u001b[0m",
      "\u001b[1;31mCalledProcessError\u001b[0m                        Traceback (most recent call last)",
      "Cell \u001b[1;32mIn[3], line 39\u001b[0m\n\u001b[0;32m     36\u001b[0m     subprocess\u001b[38;5;241m.\u001b[39mrun(command, check\u001b[38;5;241m=\u001b[39m\u001b[38;5;28;01mTrue\u001b[39;00m)\n\u001b[0;32m     38\u001b[0m \u001b[38;5;66;03m# Create the virtual environment and install Gradio\u001b[39;00m\n\u001b[1;32m---> 39\u001b[0m \u001b[43mcreate_virtual_environment\u001b[49m\u001b[43m(\u001b[49m\u001b[43m)\u001b[49m\n\u001b[0;32m     41\u001b[0m \u001b[38;5;66;03m# Clone the repository\u001b[39;00m\n\u001b[0;32m     42\u001b[0m clone_repository()\n",
      "Cell \u001b[1;32mIn[3], line 22\u001b[0m, in \u001b[0;36mcreate_virtual_environment\u001b[1;34m()\u001b[0m\n\u001b[0;32m     20\u001b[0m \u001b[38;5;28;01melse\u001b[39;00m:\n\u001b[0;32m     21\u001b[0m     activate_script \u001b[38;5;241m=\u001b[39m os\u001b[38;5;241m.\u001b[39mpath\u001b[38;5;241m.\u001b[39mjoin(\u001b[38;5;124m'\u001b[39m\u001b[38;5;124mmyenv\u001b[39m\u001b[38;5;124m'\u001b[39m, \u001b[38;5;124m'\u001b[39m\u001b[38;5;124mbin\u001b[39m\u001b[38;5;124m'\u001b[39m, \u001b[38;5;124m'\u001b[39m\u001b[38;5;124mactivate\u001b[39m\u001b[38;5;124m'\u001b[39m)\n\u001b[1;32m---> 22\u001b[0m \u001b[43msubprocess\u001b[49m\u001b[38;5;241;43m.\u001b[39;49m\u001b[43mrun\u001b[49m\u001b[43m(\u001b[49m\u001b[43m[\u001b[49m\u001b[38;5;124;43m'\u001b[39;49m\u001b[38;5;124;43msource\u001b[39;49m\u001b[38;5;124;43m'\u001b[39;49m\u001b[43m,\u001b[49m\u001b[43m \u001b[49m\u001b[43mactivate_script\u001b[49m\u001b[43m]\u001b[49m\u001b[43m,\u001b[49m\u001b[43m \u001b[49m\u001b[43mshell\u001b[49m\u001b[38;5;241;43m=\u001b[39;49m\u001b[38;5;28;43;01mTrue\u001b[39;49;00m\u001b[43m,\u001b[49m\u001b[43m \u001b[49m\u001b[43mcheck\u001b[49m\u001b[38;5;241;43m=\u001b[39;49m\u001b[38;5;28;43;01mTrue\u001b[39;49;00m\u001b[43m)\u001b[49m\n\u001b[0;32m     24\u001b[0m \u001b[38;5;66;03m# Install Gradio using pip\u001b[39;00m\n\u001b[0;32m     25\u001b[0m subprocess\u001b[38;5;241m.\u001b[39mrun([\u001b[38;5;124m'\u001b[39m\u001b[38;5;124mpip\u001b[39m\u001b[38;5;124m'\u001b[39m, \u001b[38;5;124m'\u001b[39m\u001b[38;5;124minstall\u001b[39m\u001b[38;5;124m'\u001b[39m, \u001b[38;5;124m'\u001b[39m\u001b[38;5;124mgradio\u001b[39m\u001b[38;5;124m'\u001b[39m], check\u001b[38;5;241m=\u001b[39m\u001b[38;5;28;01mTrue\u001b[39;00m)\n",
      "File \u001b[1;32m~\\AppData\\Local\\Programs\\Python\\Python310\\lib\\subprocess.py:526\u001b[0m, in \u001b[0;36mrun\u001b[1;34m(input, capture_output, timeout, check, *popenargs, **kwargs)\u001b[0m\n\u001b[0;32m    524\u001b[0m     retcode \u001b[38;5;241m=\u001b[39m process\u001b[38;5;241m.\u001b[39mpoll()\n\u001b[0;32m    525\u001b[0m     \u001b[38;5;28;01mif\u001b[39;00m check \u001b[38;5;129;01mand\u001b[39;00m retcode:\n\u001b[1;32m--> 526\u001b[0m         \u001b[38;5;28;01mraise\u001b[39;00m CalledProcessError(retcode, process\u001b[38;5;241m.\u001b[39margs,\n\u001b[0;32m    527\u001b[0m                                  output\u001b[38;5;241m=\u001b[39mstdout, stderr\u001b[38;5;241m=\u001b[39mstderr)\n\u001b[0;32m    528\u001b[0m \u001b[38;5;28;01mreturn\u001b[39;00m CompletedProcess(process\u001b[38;5;241m.\u001b[39margs, retcode, stdout, stderr)\n",
      "\u001b[1;31mCalledProcessError\u001b[0m: Command '['source', 'myenv\\\\Scripts\\\\activate']' returned non-zero exit status 1."
     ]
    }
   ],
   "source": [
    "import subprocess\n",
    "import os\n",
    "import platform\n",
    "\n",
    "# Function to create virtual environment and install Gradio\n",
    "def create_virtual_environment():\n",
    "    # Construct the command to create the virtual environment\n",
    "    command = ['python', '-m', 'venv', 'myenv']\n",
    "    \n",
    "    # Check if --clear flag needs to be added based on OS\n",
    "    if platform.system() == 'Windows':\n",
    "        command.append('--clear')\n",
    "    \n",
    "    # Execute the command to create the virtual environment\n",
    "    subprocess.run(command, check=True)\n",
    "    \n",
    "    # Activate the virtual environment\n",
    "    if platform.system() == 'Windows':\n",
    "        activate_script = os.path.join('myenv', 'Scripts', 'activate')\n",
    "    else:\n",
    "        activate_script = os.path.join('myenv', 'bin', 'activate')\n",
    "    subprocess.run(['source', activate_script], shell=True, check=True)\n",
    "    \n",
    "    # Install Gradio using pip\n",
    "    subprocess.run(['pip', 'install', 'gradio'], check=True)\n",
    "\n",
    "# Function to clone the repository\n",
    "def clone_repository():\n",
    "    # Full path to the git executable\n",
    "    git_executable = 'git'  # Assumes git is installed and accessible in the system PATH\n",
    "    \n",
    "    # Construct the command to clone the repository\n",
    "    command = [git_executable, 'clone', 'https://github.com/ProjectPhysX/FluidX3D']\n",
    "    \n",
    "    # Execute the command\n",
    "    subprocess.run(command, check=True)\n",
    "\n",
    "# Create the virtual environment and install Gradio\n",
    "create_virtual_environment()\n",
    "\n",
    "# Clone the repository\n",
    "clone_repository()\n"
   ]
  }
 ],
 "metadata": {
  "kernelspec": {
   "display_name": "Python 3 (ipykernel)",
   "language": "python",
   "name": "python3"
  },
  "language_info": {
   "codemirror_mode": {
    "name": "ipython",
    "version": 3
   },
   "file_extension": ".py",
   "mimetype": "text/x-python",
   "name": "python",
   "nbconvert_exporter": "python",
   "pygments_lexer": "ipython3",
   "version": "3.10.10"
  }
 },
 "nbformat": 4,
 "nbformat_minor": 5
}
