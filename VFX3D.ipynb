{
 "cells": [
  {
   "cell_type": "markdown",
   "id": "b62d01bc-6712-41ac-96cd-dd3f4813b7f8",
   "metadata": {},
   "source": [
    "## Environment set-up"
   ]
  },
  {
   "cell_type": "code",
   "execution_count": 1,
   "id": "aebf78b3-bcdb-4397-8f60-68ad91e008c2",
   "metadata": {
    "scrolled": true
   },
   "outputs": [
    {
     "name": "stdout",
     "output_type": "stream",
     "text": [
      "Requirement already satisfied: gradio in c:\\users\\carra\\appdata\\local\\programs\\python\\python312\\lib\\site-packages (4.28.3)\n",
      "Requirement already satisfied: aiofiles<24.0,>=22.0 in c:\\users\\carra\\appdata\\local\\programs\\python\\python312\\lib\\site-packages (from gradio) (23.2.1)\n",
      "Requirement already satisfied: altair<6.0,>=4.2.0 in c:\\users\\carra\\appdata\\local\\programs\\python\\python312\\lib\\site-packages (from gradio) (5.3.0)\n",
      "Requirement already satisfied: fastapi in c:\\users\\carra\\appdata\\local\\programs\\python\\python312\\lib\\site-packages (from gradio) (0.110.2)\n",
      "Requirement already satisfied: ffmpy in c:\\users\\carra\\appdata\\local\\programs\\python\\python312\\lib\\site-packages (from gradio) (0.3.2)\n",
      "Requirement already satisfied: gradio-client==0.16.0 in c:\\users\\carra\\appdata\\local\\programs\\python\\python312\\lib\\site-packages (from gradio) (0.16.0)\n",
      "Requirement already satisfied: httpx>=0.24.1 in c:\\users\\carra\\appdata\\local\\programs\\python\\python312\\lib\\site-packages (from gradio) (0.27.0)\n",
      "Requirement already satisfied: huggingface-hub>=0.19.3 in c:\\users\\carra\\appdata\\local\\programs\\python\\python312\\lib\\site-packages (from gradio) (0.22.2)\n",
      "Requirement already satisfied: importlib-resources<7.0,>=1.3 in c:\\users\\carra\\appdata\\local\\programs\\python\\python312\\lib\\site-packages (from gradio) (6.4.0)\n",
      "Requirement already satisfied: jinja2<4.0 in c:\\users\\carra\\appdata\\local\\programs\\python\\python312\\lib\\site-packages (from gradio) (3.1.3)\n",
      "Requirement already satisfied: markupsafe~=2.0 in c:\\users\\carra\\appdata\\local\\programs\\python\\python312\\lib\\site-packages (from gradio) (2.1.3)\n",
      "Requirement already satisfied: matplotlib~=3.0 in c:\\users\\carra\\appdata\\local\\programs\\python\\python312\\lib\\site-packages (from gradio) (3.8.4)\n",
      "Requirement already satisfied: numpy~=1.0 in c:\\users\\carra\\appdata\\local\\programs\\python\\python312\\lib\\site-packages (from gradio) (1.26.3)\n",
      "Requirement already satisfied: orjson~=3.0 in c:\\users\\carra\\appdata\\local\\programs\\python\\python312\\lib\\site-packages (from gradio) (3.10.1)\n",
      "Requirement already satisfied: packaging in c:\\users\\carra\\appdata\\local\\programs\\python\\python312\\lib\\site-packages (from gradio) (23.2)\n",
      "Requirement already satisfied: pandas<3.0,>=1.0 in c:\\users\\carra\\appdata\\local\\programs\\python\\python312\\lib\\site-packages (from gradio) (2.2.2)\n",
      "Requirement already satisfied: pillow<11.0,>=8.0 in c:\\users\\carra\\appdata\\local\\programs\\python\\python312\\lib\\site-packages (from gradio) (10.3.0)\n",
      "Requirement already satisfied: pydantic>=2.0 in c:\\users\\carra\\appdata\\local\\programs\\python\\python312\\lib\\site-packages (from gradio) (2.7.1)\n",
      "Requirement already satisfied: pydub in c:\\users\\carra\\appdata\\local\\programs\\python\\python312\\lib\\site-packages (from gradio) (0.25.1)\n",
      "Requirement already satisfied: python-multipart>=0.0.9 in c:\\users\\carra\\appdata\\local\\programs\\python\\python312\\lib\\site-packages (from gradio) (0.0.9)\n",
      "Requirement already satisfied: pyyaml<7.0,>=5.0 in c:\\users\\carra\\appdata\\local\\programs\\python\\python312\\lib\\site-packages (from gradio) (6.0.1)\n",
      "Requirement already satisfied: ruff>=0.2.2 in c:\\users\\carra\\appdata\\local\\programs\\python\\python312\\lib\\site-packages (from gradio) (0.4.2)\n",
      "Requirement already satisfied: semantic-version~=2.0 in c:\\users\\carra\\appdata\\local\\programs\\python\\python312\\lib\\site-packages (from gradio) (2.10.0)\n",
      "Requirement already satisfied: tomlkit==0.12.0 in c:\\users\\carra\\appdata\\local\\programs\\python\\python312\\lib\\site-packages (from gradio) (0.12.0)\n",
      "Requirement already satisfied: typer<1.0,>=0.12 in c:\\users\\carra\\appdata\\local\\programs\\python\\python312\\lib\\site-packages (from gradio) (0.12.3)\n",
      "Requirement already satisfied: typing-extensions~=4.0 in c:\\users\\carra\\appdata\\local\\programs\\python\\python312\\lib\\site-packages (from gradio) (4.11.0)\n",
      "Requirement already satisfied: urllib3~=2.0 in c:\\users\\carra\\appdata\\local\\programs\\python\\python312\\lib\\site-packages (from gradio) (2.1.0)\n",
      "Requirement already satisfied: uvicorn>=0.14.0 in c:\\users\\carra\\appdata\\local\\programs\\python\\python312\\lib\\site-packages (from gradio) (0.29.0)\n",
      "Requirement already satisfied: fsspec in c:\\users\\carra\\appdata\\local\\programs\\python\\python312\\lib\\site-packages (from gradio-client==0.16.0->gradio) (2024.3.1)\n",
      "Requirement already satisfied: websockets<12.0,>=10.0 in c:\\users\\carra\\appdata\\local\\programs\\python\\python312\\lib\\site-packages (from gradio-client==0.16.0->gradio) (11.0.3)\n",
      "Requirement already satisfied: jsonschema>=3.0 in c:\\users\\carra\\appdata\\local\\programs\\python\\python312\\lib\\site-packages (from altair<6.0,>=4.2.0->gradio) (4.21.0)\n",
      "Requirement already satisfied: toolz in c:\\users\\carra\\appdata\\local\\programs\\python\\python312\\lib\\site-packages (from altair<6.0,>=4.2.0->gradio) (0.12.1)\n",
      "Requirement already satisfied: anyio in c:\\users\\carra\\appdata\\local\\programs\\python\\python312\\lib\\site-packages (from httpx>=0.24.1->gradio) (4.2.0)\n",
      "Requirement already satisfied: certifi in c:\\users\\carra\\appdata\\local\\programs\\python\\python312\\lib\\site-packages (from httpx>=0.24.1->gradio) (2023.11.17)\n",
      "Requirement already satisfied: httpcore==1.* in c:\\users\\carra\\appdata\\local\\programs\\python\\python312\\lib\\site-packages (from httpx>=0.24.1->gradio) (1.0.5)\n",
      "Requirement already satisfied: idna in c:\\users\\carra\\appdata\\local\\programs\\python\\python312\\lib\\site-packages (from httpx>=0.24.1->gradio) (3.6)\n",
      "Requirement already satisfied: sniffio in c:\\users\\carra\\appdata\\local\\programs\\python\\python312\\lib\\site-packages (from httpx>=0.24.1->gradio) (1.3.0)\n",
      "Requirement already satisfied: h11<0.15,>=0.13 in c:\\users\\carra\\appdata\\local\\programs\\python\\python312\\lib\\site-packages (from httpcore==1.*->httpx>=0.24.1->gradio) (0.14.0)\n",
      "Requirement already satisfied: filelock in c:\\users\\carra\\appdata\\local\\programs\\python\\python312\\lib\\site-packages (from huggingface-hub>=0.19.3->gradio) (3.13.4)\n",
      "Requirement already satisfied: requests in c:\\users\\carra\\appdata\\local\\programs\\python\\python312\\lib\\site-packages (from huggingface-hub>=0.19.3->gradio) (2.31.0)\n",
      "Requirement already satisfied: tqdm>=4.42.1 in c:\\users\\carra\\appdata\\local\\programs\\python\\python312\\lib\\site-packages (from huggingface-hub>=0.19.3->gradio) (4.66.2)\n",
      "Requirement already satisfied: contourpy>=1.0.1 in c:\\users\\carra\\appdata\\local\\programs\\python\\python312\\lib\\site-packages (from matplotlib~=3.0->gradio) (1.2.1)\n",
      "Requirement already satisfied: cycler>=0.10 in c:\\users\\carra\\appdata\\local\\programs\\python\\python312\\lib\\site-packages (from matplotlib~=3.0->gradio) (0.12.1)\n",
      "Requirement already satisfied: fonttools>=4.22.0 in c:\\users\\carra\\appdata\\local\\programs\\python\\python312\\lib\\site-packages (from matplotlib~=3.0->gradio) (4.51.0)\n",
      "Requirement already satisfied: kiwisolver>=1.3.1 in c:\\users\\carra\\appdata\\local\\programs\\python\\python312\\lib\\site-packages (from matplotlib~=3.0->gradio) (1.4.5)\n",
      "Requirement already satisfied: pyparsing>=2.3.1 in c:\\users\\carra\\appdata\\local\\programs\\python\\python312\\lib\\site-packages (from matplotlib~=3.0->gradio) (3.1.2)\n",
      "Requirement already satisfied: python-dateutil>=2.7 in c:\\users\\carra\\appdata\\local\\programs\\python\\python312\\lib\\site-packages (from matplotlib~=3.0->gradio) (2.8.2)\n",
      "Requirement already satisfied: pytz>=2020.1 in c:\\users\\carra\\appdata\\local\\programs\\python\\python312\\lib\\site-packages (from pandas<3.0,>=1.0->gradio) (2024.1)\n",
      "Requirement already satisfied: tzdata>=2022.7 in c:\\users\\carra\\appdata\\local\\programs\\python\\python312\\lib\\site-packages (from pandas<3.0,>=1.0->gradio) (2024.1)\n",
      "Requirement already satisfied: annotated-types>=0.4.0 in c:\\users\\carra\\appdata\\local\\programs\\python\\python312\\lib\\site-packages (from pydantic>=2.0->gradio) (0.6.0)\n",
      "Requirement already satisfied: pydantic-core==2.18.2 in c:\\users\\carra\\appdata\\local\\programs\\python\\python312\\lib\\site-packages (from pydantic>=2.0->gradio) (2.18.2)\n",
      "Requirement already satisfied: click>=8.0.0 in c:\\users\\carra\\appdata\\local\\programs\\python\\python312\\lib\\site-packages (from typer<1.0,>=0.12->gradio) (8.1.7)\n",
      "Requirement already satisfied: shellingham>=1.3.0 in c:\\users\\carra\\appdata\\local\\programs\\python\\python312\\lib\\site-packages (from typer<1.0,>=0.12->gradio) (1.5.4)\n",
      "Requirement already satisfied: rich>=10.11.0 in c:\\users\\carra\\appdata\\local\\programs\\python\\python312\\lib\\site-packages (from typer<1.0,>=0.12->gradio) (13.7.1)\n",
      "Requirement already satisfied: starlette<0.38.0,>=0.37.2 in c:\\users\\carra\\appdata\\local\\programs\\python\\python312\\lib\\site-packages (from fastapi->gradio) (0.37.2)\n",
      "Requirement already satisfied: colorama in c:\\users\\carra\\appdata\\local\\programs\\python\\python312\\lib\\site-packages (from click>=8.0.0->typer<1.0,>=0.12->gradio) (0.4.6)\n",
      "Requirement already satisfied: attrs>=22.2.0 in c:\\users\\carra\\appdata\\local\\programs\\python\\python312\\lib\\site-packages (from jsonschema>=3.0->altair<6.0,>=4.2.0->gradio) (23.2.0)\n",
      "Requirement already satisfied: jsonschema-specifications>=2023.03.6 in c:\\users\\carra\\appdata\\local\\programs\\python\\python312\\lib\\site-packages (from jsonschema>=3.0->altair<6.0,>=4.2.0->gradio) (2023.12.1)\n",
      "Requirement already satisfied: referencing>=0.28.4 in c:\\users\\carra\\appdata\\local\\programs\\python\\python312\\lib\\site-packages (from jsonschema>=3.0->altair<6.0,>=4.2.0->gradio) (0.32.1)\n",
      "Requirement already satisfied: rpds-py>=0.7.1 in c:\\users\\carra\\appdata\\local\\programs\\python\\python312\\lib\\site-packages (from jsonschema>=3.0->altair<6.0,>=4.2.0->gradio) (0.17.1)\n",
      "Requirement already satisfied: six>=1.5 in c:\\users\\carra\\appdata\\local\\programs\\python\\python312\\lib\\site-packages (from python-dateutil>=2.7->matplotlib~=3.0->gradio) (1.16.0)\n",
      "Requirement already satisfied: markdown-it-py>=2.2.0 in c:\\users\\carra\\appdata\\local\\programs\\python\\python312\\lib\\site-packages (from rich>=10.11.0->typer<1.0,>=0.12->gradio) (3.0.0)\n",
      "Requirement already satisfied: pygments<3.0.0,>=2.13.0 in c:\\users\\carra\\appdata\\local\\programs\\python\\python312\\lib\\site-packages (from rich>=10.11.0->typer<1.0,>=0.12->gradio) (2.17.2)\n",
      "Requirement already satisfied: charset-normalizer<4,>=2 in c:\\users\\carra\\appdata\\local\\programs\\python\\python312\\lib\\site-packages (from requests->huggingface-hub>=0.19.3->gradio) (3.3.2)\n",
      "Requirement already satisfied: mdurl~=0.1 in c:\\users\\carra\\appdata\\local\\programs\\python\\python312\\lib\\site-packages (from markdown-it-py>=2.2.0->rich>=10.11.0->typer<1.0,>=0.12->gradio) (0.1.2)\n",
      "Note: you may need to restart the kernel to use updated packages.\n"
     ]
    }
   ],
   "source": [
    "pip install gradio"
   ]
  },
  {
   "cell_type": "markdown",
   "id": "67ad8918-ccdb-4b5b-91f8-be3124f49790",
   "metadata": {},
   "source": [
    "Import Libraries"
   ]
  },
  {
   "cell_type": "code",
   "execution_count": 2,
   "id": "672ba476-1dd3-4b94-828d-38ade85957f9",
   "metadata": {
    "jupyter": {
     "source_hidden": true
    }
   },
   "outputs": [],
   "source": [
    "import subprocess\n",
    "import os\n",
    "import sys\n",
    "import platform\n",
    "import shutil\n",
    "import json"
   ]
  },
  {
   "cell_type": "markdown",
   "id": "f787ef56-c3fe-4acc-8482-819e8e03b0e6",
   "metadata": {},
   "source": [
    "---"
   ]
  },
  {
   "cell_type": "markdown",
   "id": "ad22e8a6-0d02-4570-847f-a3c64d8f4c4f",
   "metadata": {},
   "source": [
    "Define Function to Create and Setup Virtual Environment"
   ]
  },
  {
   "cell_type": "code",
   "execution_count": 3,
   "id": "62f798c3-86e3-419d-9271-1e0963f7a180",
   "metadata": {
    "jupyter": {
     "source_hidden": true
    }
   },
   "outputs": [],
   "source": [
    "def create_and_setup_virtual_environment():\n",
    "    venv_dir = 'myenv'\n",
    "    python_executable = sys.executable\n",
    "    \n",
    "    # Check if the virtual environment directory already exists\n",
    "    if os.path.exists(venv_dir):\n",
    "        # Remove the existing virtual environment directory\n",
    "        print(f\"Removing existing virtual environment directory '{venv_dir}'.\")\n",
    "        shutil.rmtree(venv_dir)\n",
    "    \n",
    "    # Create a new virtual environment\n",
    "    subprocess.run([python_executable, '-m', 'venv', venv_dir], check=True)\n",
    "    print(f\"Created a new virtual environment in '{venv_dir}'.\")\n",
    "\n",
    "    # Determine the path to the Python executable in the virtual environment\n",
    "    if platform.system() == 'Windows':\n",
    "        venv_python = os.path.join(venv_dir, 'Scripts', 'python')\n",
    "    else:\n",
    "        venv_python = os.path.join(venv_dir, 'bin', 'python')\n",
    "    \n",
    "    # Install Gradio in the new virtual environment\n",
    "    subprocess.run([venv_python, '-m', 'pip', 'install', 'gradio'], check=True)\n",
    "    print(\"Installed Gradio in the virtual environment.\")"
   ]
  },
  {
   "cell_type": "markdown",
   "id": "f69c9e81-14cb-4ec0-bf45-2080098bfe41",
   "metadata": {},
   "source": [
    "Create the Virtual Environment and Install Gradio"
   ]
  },
  {
   "cell_type": "code",
   "execution_count": 4,
   "id": "1c3d5261-2d41-4e9e-bd0b-057099dc36bf",
   "metadata": {
    "jupyter": {
     "source_hidden": true
    },
    "scrolled": true
   },
   "outputs": [
    {
     "name": "stdout",
     "output_type": "stream",
     "text": [
      "Removing existing virtual environment directory 'myenv'.\n",
      "Created a new virtual environment in 'myenv'.\n",
      "Installed Gradio in the virtual environment.\n"
     ]
    }
   ],
   "source": [
    "create_and_setup_virtual_environment()"
   ]
  },
  {
   "cell_type": "markdown",
   "id": "79fa75a5-c0a9-44f8-bd88-531a083b485e",
   "metadata": {},
   "source": [
    "Define Function to Clone or Update Repository"
   ]
  },
  {
   "cell_type": "code",
   "execution_count": 5,
   "id": "0cf5160c-d204-44eb-a686-8ac4ac6977d2",
   "metadata": {
    "jupyter": {
     "source_hidden": true
    }
   },
   "outputs": [],
   "source": [
    "def clone_or_update_repository():\n",
    "    repo_url = 'https://github.com/ProjectPhysX/FluidX3D'\n",
    "    clone_dir = 'FluidX3D'\n",
    "    \n",
    "    if os.path.exists(clone_dir) and os.path.isdir(os.path.join(clone_dir, '.git')):\n",
    "        # If it's a Git repository, pull the latest changes\n",
    "        print(f\"Updating the repository in '{clone_dir}'.\")\n",
    "        subprocess.run(['git', '-C', clone_dir, 'pull'], check=True)\n",
    "    elif not os.path.exists(clone_dir):\n",
    "        # If the directory does not exist, clone the repository\n",
    "        subprocess.run(['git', 'clone', repo_url], check=True)\n",
    "    else:\n",
    "        # If the directory exists but is not a Git repository\n",
    "        print(f\"The directory '{clone_dir}' already exists and is not a git repository. Skipping clone.\")\n"
   ]
  },
  {
   "cell_type": "code",
   "execution_count": 10,
   "id": "412edb0e-a5f7-4702-bb23-47b42c63ac54",
   "metadata": {},
   "outputs": [],
   "source": [
    "clone_or_update_repository()"
   ]
  },
  {
   "cell_type": "markdown",
   "id": "84a6faf5-ef6e-4bc9-8634-e1e8638c51b0",
   "metadata": {},
   "source": [
    "## Build FluidX3D"
   ]
  },
  {
   "cell_type": "markdown",
   "id": "be6df30b-3bc1-4f3b-b196-dceb47be6d3a",
   "metadata": {},
   "source": [
    "Find and compile solution"
   ]
  },
  {
   "cell_type": "code",
   "execution_count": 6,
   "id": "67c35829-f212-4b0d-94fc-ef4e46132169",
   "metadata": {
    "scrolled": true
   },
   "outputs": [],
   "source": [
    "def find_msbuild():\n",
    "    # Path to vswhere.exe - adjust if necessary\n",
    "    vswhere_path = r\"C:\\Program Files (x86)\\Microsoft Visual Studio\\Installer\\vswhere.exe\"\n",
    "    # Use vswhere to find the installation path for MSBuild\n",
    "    try:\n",
    "        result = subprocess.run([vswhere_path, \"-latest\", \"-requires\", \"Microsoft.Component.MSBuild\", \"-find\", \"MSBuild\\\\**\\\\Bin\\\\MSBuild.exe\", \"-format\", \"json\"], capture_output=True, text=True, check=True)\n",
    "        installations = json.loads(result.stdout)\n",
    "        if installations:\n",
    "            return installations[0]  # Returns the path to the latest MSBuild executable\n",
    "    except subprocess.CalledProcessError as e:\n",
    "        print(f\"Error finding MSBuild with vswhere: {e}\")\n",
    "    return None\n",
    "\n",
    "def compile_solution(msbuild_path, solution_path):\n",
    "    try:\n",
    "        result = subprocess.run([msbuild_path, solution_path, \"/p:Configuration=Release\"], capture_output=True, text=True, check=False)\n",
    "        if result.returncode != 0:\n",
    "            print(\"Failed to compile the solution:\")\n",
    "            print(result.stdout)\n",
    "            print(result.stderr)\n",
    "        else:\n",
    "            print(\"Solution compiled successfully.\")\n",
    "            print(result.stdout)\n",
    "    except subprocess.CalledProcessError as e:\n",
    "        print(f\"An error occurred: {e}\")"
   ]
  },
  {
   "cell_type": "markdown",
   "id": "95f8a1d0-3f8e-494b-be86-42c261c24af5",
   "metadata": {},
   "source": [
    "Run solution"
   ]
  },
  {
   "cell_type": "code",
   "execution_count": 7,
   "id": "6031ac17-0bc9-4478-b831-2aabb41ae46e",
   "metadata": {},
   "outputs": [],
   "source": [
    "def run_application():\n",
    "    executable_path = os.path.join(os.getcwd(), \"FluidX3D\", \"bin\", \"FluidX3D\")\n",
    "    # Command to open a new console window\n",
    "    command = f'start cmd /K \"{executable_path}\"'\n",
    "    try:\n",
    "        subprocess.run(command, shell=True)\n",
    "    except Exception as e:\n",
    "        print(f\"Failed to run the application: {e}\")"
   ]
  },
  {
   "cell_type": "code",
   "execution_count": 13,
   "id": "c663dd87-61ad-491a-aa82-7be00ccf2cfd",
   "metadata": {},
   "outputs": [],
   "source": [
    "def compile_and_play_simulation():\n",
    "    msbuild_path = find_msbuild()\n",
    "    solution_path = os.path.join(os.getcwd(), \"FluidX3D\", \"FluidX3D.sln\")\n",
    "    print(\"solution path: \",solution_path)\n",
    "    compile_solution(msbuild_path, solution_path)\n",
    "    run_application()"
   ]
  },
  {
   "cell_type": "markdown",
   "id": "2774bf02-a014-4814-b559-711f346369bd",
   "metadata": {},
   "source": [
    "## Expose FluidX3D as Gradio interface"
   ]
  },
  {
   "cell_type": "code",
   "execution_count": 15,
   "id": "27d8586e-cdd2-4821-9f48-9f2c2879947f",
   "metadata": {},
   "outputs": [
    {
     "name": "stdout",
     "output_type": "stream",
     "text": [
      "solution path:  D:\\VisualFluidX3D\\FluidX3D\\FluidX3D.sln\n",
      "Solution compiled successfully.\n",
      "MSBuild version 17.9.8+b34f75857 for .NET Framework\n",
      "Build started 07/05/2024 02:58:26.\n",
      "\n",
      "Project \"D:\\VisualFluidX3D\\FluidX3D\\FluidX3D.sln\" on node 1 (default targets).\n",
      "ValidateSolutionConfiguration:\n",
      "  Building solution configuration \"Release|x64\".\n",
      "Project \"D:\\VisualFluidX3D\\FluidX3D\\FluidX3D.sln\" (1) is building \"D:\\VisualFluidX3D\\FluidX3D\\FluidX3D.vcxproj\" (2) on node 1 (default targets).\n",
      "PrepareForBuild:\n",
      "  Creating directory \"D:\\VisualFluidX3D\\FluidX3D\\temp\\\".\n",
      "  Creating directory \"D:\\VisualFluidX3D\\FluidX3D\\bin\\\".\n",
      "  Creating directory \"D:\\VisualFluidX3D\\FluidX3D\\temp\\FluidX3D.tlog\\\".\n",
      "InitializeBuildStatus:\n",
      "  Creating \"D:\\VisualFluidX3D\\FluidX3D\\temp\\FluidX3D.tlog\\unsuccessfulbuild\" because \"AlwaysCreate\" was specified.\n",
      "  Touching \"D:\\VisualFluidX3D\\FluidX3D\\temp\\FluidX3D.tlog\\unsuccessfulbuild\".\n",
      "ClCompile:\n",
      "  C:\\Program Files\\Microsoft Visual Studio\\2022\\Community\\VC\\Tools\\MSVC\\14.29.30133\\bin\\HostX86\\x64\\CL.exe /c /ID:\\VisualFluidX3D\\FluidX3D\\src\\OpenCL\\include /Zi /nologo /W3 /WX- /diagnostics:column /sdl /MP /O2 /Oi /Ot /GL /D _MBCS /Gm- /EHsc /MD /GS /Gy /Qpar /fp:fast /permissive- /Zc:wchar_t /Zc:forScope /Zc:inline /std:c++17 /Fo\"D:\\VisualFluidX3D\\FluidX3D\\temp\\\\\" /Fd\"D:\\VisualFluidX3D\\FluidX3D\\temp\\vc142.pdb\" /external:W3 /Gd /TP /wd26451 /wd6386 /FC /errorReport:queue src\\graphics.cpp src\\info.cpp src\\kernel.cpp src\\lbm.cpp src\\lodepng.cpp src\\main.cpp src\\setup.cpp src\\shapes.cpp\n",
      "  graphics.cpp\n",
      "  info.cpp\n",
      "  kernel.cpp\n",
      "  lbm.cpp\n",
      "  lodepng.cpp\n",
      "  main.cpp\n",
      "  setup.cpp\n",
      "  shapes.cpp\n",
      "D:\\VisualFluidX3D\\FluidX3D\\src\\lodepng.cpp(708,52): warning C4334: '<<': result of 32-bit shift implicitly converted to 64 bits (was 64-bit shift intended?) [D:\\VisualFluidX3D\\FluidX3D\\FluidX3D.vcxproj]\n",
      "D:\\VisualFluidX3D\\FluidX3D\\src\\lodepng.cpp(726,33): warning C4267: '=': conversion from 'size_t' to 'unsigned short', possible loss of data [D:\\VisualFluidX3D\\FluidX3D\\FluidX3D.vcxproj]\n",
      "D:\\VisualFluidX3D\\FluidX3D\\src\\lodepng.cpp(727,37): warning C4334: '<<': result of 32-bit shift implicitly converted to 64 bits (was 64-bit shift intended?) [D:\\VisualFluidX3D\\FluidX3D\\FluidX3D.vcxproj]\n",
      "D:\\VisualFluidX3D\\FluidX3D\\src\\lodepng.cpp(750,33): warning C4267: '=': conversion from 'size_t' to 'unsigned short', possible loss of data [D:\\VisualFluidX3D\\FluidX3D\\FluidX3D.vcxproj]\n",
      "D:\\VisualFluidX3D\\FluidX3D\\src\\lodepng.cpp(767,34): warning C4267: '=': conversion from 'size_t' to 'unsigned short', possible loss of data [D:\\VisualFluidX3D\\FluidX3D\\FluidX3D.vcxproj]\n",
      "D:\\VisualFluidX3D\\FluidX3D\\src\\lodepng.cpp(3703,75): warning C4267: 'argument': conversion from 'size_t' to 'unsigned int', possible loss of data [D:\\VisualFluidX3D\\FluidX3D\\FluidX3D.vcxproj]\n",
      "D:\\VisualFluidX3D\\FluidX3D\\src\\lodepng.cpp(4658,32): warning C4267: '=': conversion from 'size_t' to 'unsigned int', possible loss of data [D:\\VisualFluidX3D\\FluidX3D\\FluidX3D.vcxproj]\n",
      "D:\\VisualFluidX3D\\FluidX3D\\src\\lodepng.cpp(4880,57): warning C4267: 'argument': conversion from 'size_t' to 'unsigned int', possible loss of data [D:\\VisualFluidX3D\\FluidX3D\\FluidX3D.vcxproj]\n",
      "D:\\VisualFluidX3D\\FluidX3D\\src\\lodepng.cpp(4885,80): warning C4267: 'argument': conversion from 'size_t' to 'unsigned int', possible loss of data [D:\\VisualFluidX3D\\FluidX3D\\FluidX3D.vcxproj]\n",
      "D:\\VisualFluidX3D\\FluidX3D\\src\\lodepng.cpp(4886,91): warning C4267: 'argument': conversion from 'size_t' to 'unsigned int', possible loss of data [D:\\VisualFluidX3D\\FluidX3D\\FluidX3D.vcxproj]\n",
      "D:\\VisualFluidX3D\\FluidX3D\\src\\lodepng.cpp(4887,80): warning C4267: 'argument': conversion from 'size_t' to 'unsigned int', possible loss of data [D:\\VisualFluidX3D\\FluidX3D\\FluidX3D.vcxproj]\n",
      "D:\\VisualFluidX3D\\FluidX3D\\src\\lodepng.cpp(4888,91): warning C4267: 'argument': conversion from 'size_t' to 'unsigned int', possible loss of data [D:\\VisualFluidX3D\\FluidX3D\\FluidX3D.vcxproj]\n",
      "D:\\VisualFluidX3D\\FluidX3D\\src\\lodepng.cpp(4889,80): warning C4267: 'argument': conversion from 'size_t' to 'unsigned int', possible loss of data [D:\\VisualFluidX3D\\FluidX3D\\FluidX3D.vcxproj]\n",
      "D:\\VisualFluidX3D\\FluidX3D\\src\\lodepng.cpp(4890,91): warning C4267: 'argument': conversion from 'size_t' to 'unsigned int', possible loss of data [D:\\VisualFluidX3D\\FluidX3D\\FluidX3D.vcxproj]\n",
      "D:\\VisualFluidX3D\\FluidX3D\\src\\lodepng.cpp(4891,75): warning C4267: 'argument': conversion from 'size_t' to 'unsigned int', possible loss of data [D:\\VisualFluidX3D\\FluidX3D\\FluidX3D.vcxproj]\n",
      "D:\\VisualFluidX3D\\FluidX3D\\src\\lodepng.cpp(5074,2): warning C4267: 'argument': conversion from 'size_t' to 'unsigned int', possible loss of data [D:\\VisualFluidX3D\\FluidX3D\\FluidX3D.vcxproj]\n",
      "D:\\VisualFluidX3D\\FluidX3D\\src\\lodepng.cpp(5098,4): warning C4267: 'argument': conversion from 'size_t' to 'unsigned int', possible loss of data [D:\\VisualFluidX3D\\FluidX3D\\FluidX3D.vcxproj]\n",
      "D:\\VisualFluidX3D\\FluidX3D\\src\\lodepng.cpp(5132,60): warning C4267: 'argument': conversion from 'size_t' to 'unsigned int', possible loss of data [D:\\VisualFluidX3D\\FluidX3D\\FluidX3D.vcxproj]\n",
      "D:\\VisualFluidX3D\\FluidX3D\\src\\lodepng.cpp(5149,2): warning C4267: 'argument': conversion from 'size_t' to 'unsigned int', possible loss of data [D:\\VisualFluidX3D\\FluidX3D\\FluidX3D.vcxproj]\n",
      "D:\\VisualFluidX3D\\FluidX3D\\src\\lodepng.cpp(5171,55): warning C4267: 'argument': conversion from 'size_t' to 'unsigned int', possible loss of data [D:\\VisualFluidX3D\\FluidX3D\\FluidX3D.vcxproj]\n",
      "D:\\VisualFluidX3D\\FluidX3D\\src\\lodepng.cpp(5202,55): warning C4267: 'argument': conversion from 'size_t' to 'unsigned int', possible loss of data [D:\\VisualFluidX3D\\FluidX3D\\FluidX3D.vcxproj]\n",
      "D:\\VisualFluidX3D\\FluidX3D\\src\\lodepng.cpp(5315,55): warning C4267: 'argument': conversion from 'size_t' to 'unsigned int', possible loss of data [D:\\VisualFluidX3D\\FluidX3D\\FluidX3D.vcxproj]\n",
      "D:\\VisualFluidX3D\\FluidX3D\\src\\lodepng.cpp(5403,32): warning C4334: '<<': result of 32-bit shift implicitly converted to 64 bits (was 64-bit shift intended?) [D:\\VisualFluidX3D\\FluidX3D\\FluidX3D.vcxproj]\n",
      "ResourceCompile:\n",
      "  C:\\Program Files (x86)\\Windows Kits\\10\\bin\\10.0.22621.0\\x86\\rc.exe /l\"0x0409\" /nologo /fo\"D:\\VisualFluidX3D\\FluidX3D\\temp\\resource.res\" src\\resource.rc \n",
      "Link:\n",
      "  C:\\Program Files\\Microsoft Visual Studio\\2022\\Community\\VC\\Tools\\MSVC\\14.29.30133\\bin\\HostX86\\x64\\link.exe /ERRORREPORT:QUEUE /OUT:\"D:\\VisualFluidX3D\\FluidX3D\\bin\\FluidX3D.exe\" /NOLOGO /LIBPATH:D:\\VisualFluidX3D\\FluidX3D\\src\\OpenCL\\lib OpenCL.lib kernel32.lib user32.lib gdi32.lib winspool.lib comdlg32.lib advapi32.lib shell32.lib ole32.lib oleaut32.lib uuid.lib odbc32.lib odbccp32.lib kernel32.lib user32.lib gdi32.lib winspool.lib comdlg32.lib advapi32.lib shell32.lib ole32.lib oleaut32.lib uuid.lib odbc32.lib odbccp32.lib /MANIFEST /MANIFESTUAC:\"level='asInvoker' uiAccess='false'\" /manifest:embed /DEBUG:FULL /PDB:\"D:\\VisualFluidX3D\\FluidX3D\\bin\\FluidX3D.pdb\" /SUBSYSTEM:CONSOLE /OPT:REF /OPT:ICF /LTCG:incremental /LTCGOUT:\"D:\\VisualFluidX3D\\FluidX3D\\temp\\FluidX3D.iobj\" /TLBID:1 /DYNAMICBASE /NXCOMPAT /IMPLIB:\"D:\\VisualFluidX3D\\FluidX3D\\bin\\FluidX3D.lib\" /MACHINE:X64 D:\\VisualFluidX3D\\FluidX3D\\temp\\resource.res\n",
      "  D:\\VisualFluidX3D\\FluidX3D\\temp\\graphics.obj\n",
      "  D:\\VisualFluidX3D\\FluidX3D\\temp\\info.obj\n",
      "  D:\\VisualFluidX3D\\FluidX3D\\temp\\kernel.obj\n",
      "  D:\\VisualFluidX3D\\FluidX3D\\temp\\lbm.obj\n",
      "  D:\\VisualFluidX3D\\FluidX3D\\temp\\lodepng.obj\n",
      "  D:\\VisualFluidX3D\\FluidX3D\\temp\\main.obj\n",
      "  D:\\VisualFluidX3D\\FluidX3D\\temp\\setup.obj\n",
      "  D:\\VisualFluidX3D\\FluidX3D\\temp\\shapes.obj\n",
      "  Generating code\n",
      "  Previous IPDB not found, fall back to full compilation.\n",
      "  All 2281 functions were compiled because no usable IPDB/IOBJ from previous compilation was found.\n",
      "  Finished generating code\n",
      "  FluidX3D.vcxproj -> D:\\VisualFluidX3D\\FluidX3D\\bin\\FluidX3D.exe\n",
      "FinalizeBuildStatus:\n",
      "  Deleting file \"D:\\VisualFluidX3D\\FluidX3D\\temp\\FluidX3D.tlog\\unsuccessfulbuild\".\n",
      "  Touching \"D:\\VisualFluidX3D\\FluidX3D\\temp\\FluidX3D.tlog\\FluidX3D.lastbuildstate\".\n",
      "Done Building Project \"D:\\VisualFluidX3D\\FluidX3D\\FluidX3D.vcxproj\" (default targets).\n",
      "Done Building Project \"D:\\VisualFluidX3D\\FluidX3D\\FluidX3D.sln\" (default targets).\n",
      "\n",
      "Build succeeded.\n",
      "\n",
      "\"D:\\VisualFluidX3D\\FluidX3D\\FluidX3D.sln\" (default target) (1) ->\n",
      "\"D:\\VisualFluidX3D\\FluidX3D\\FluidX3D.vcxproj\" (default target) (2) ->\n",
      "(ClCompile target) -> \n",
      "  D:\\VisualFluidX3D\\FluidX3D\\src\\lodepng.cpp(708,52): warning C4334: '<<': result of 32-bit shift implicitly converted to 64 bits (was 64-bit shift intended?) [D:\\VisualFluidX3D\\FluidX3D\\FluidX3D.vcxproj]\n",
      "  D:\\VisualFluidX3D\\FluidX3D\\src\\lodepng.cpp(726,33): warning C4267: '=': conversion from 'size_t' to 'unsigned short', possible loss of data [D:\\VisualFluidX3D\\FluidX3D\\FluidX3D.vcxproj]\n",
      "  D:\\VisualFluidX3D\\FluidX3D\\src\\lodepng.cpp(727,37): warning C4334: '<<': result of 32-bit shift implicitly converted to 64 bits (was 64-bit shift intended?) [D:\\VisualFluidX3D\\FluidX3D\\FluidX3D.vcxproj]\n",
      "  D:\\VisualFluidX3D\\FluidX3D\\src\\lodepng.cpp(750,33): warning C4267: '=': conversion from 'size_t' to 'unsigned short', possible loss of data [D:\\VisualFluidX3D\\FluidX3D\\FluidX3D.vcxproj]\n",
      "  D:\\VisualFluidX3D\\FluidX3D\\src\\lodepng.cpp(767,34): warning C4267: '=': conversion from 'size_t' to 'unsigned short', possible loss of data [D:\\VisualFluidX3D\\FluidX3D\\FluidX3D.vcxproj]\n",
      "  D:\\VisualFluidX3D\\FluidX3D\\src\\lodepng.cpp(3703,75): warning C4267: 'argument': conversion from 'size_t' to 'unsigned int', possible loss of data [D:\\VisualFluidX3D\\FluidX3D\\FluidX3D.vcxproj]\n",
      "  D:\\VisualFluidX3D\\FluidX3D\\src\\lodepng.cpp(4658,32): warning C4267: '=': conversion from 'size_t' to 'unsigned int', possible loss of data [D:\\VisualFluidX3D\\FluidX3D\\FluidX3D.vcxproj]\n",
      "  D:\\VisualFluidX3D\\FluidX3D\\src\\lodepng.cpp(4880,57): warning C4267: 'argument': conversion from 'size_t' to 'unsigned int', possible loss of data [D:\\VisualFluidX3D\\FluidX3D\\FluidX3D.vcxproj]\n",
      "  D:\\VisualFluidX3D\\FluidX3D\\src\\lodepng.cpp(4885,80): warning C4267: 'argument': conversion from 'size_t' to 'unsigned int', possible loss of data [D:\\VisualFluidX3D\\FluidX3D\\FluidX3D.vcxproj]\n",
      "  D:\\VisualFluidX3D\\FluidX3D\\src\\lodepng.cpp(4886,91): warning C4267: 'argument': conversion from 'size_t' to 'unsigned int', possible loss of data [D:\\VisualFluidX3D\\FluidX3D\\FluidX3D.vcxproj]\n",
      "  D:\\VisualFluidX3D\\FluidX3D\\src\\lodepng.cpp(4887,80): warning C4267: 'argument': conversion from 'size_t' to 'unsigned int', possible loss of data [D:\\VisualFluidX3D\\FluidX3D\\FluidX3D.vcxproj]\n",
      "  D:\\VisualFluidX3D\\FluidX3D\\src\\lodepng.cpp(4888,91): warning C4267: 'argument': conversion from 'size_t' to 'unsigned int', possible loss of data [D:\\VisualFluidX3D\\FluidX3D\\FluidX3D.vcxproj]\n",
      "  D:\\VisualFluidX3D\\FluidX3D\\src\\lodepng.cpp(4889,80): warning C4267: 'argument': conversion from 'size_t' to 'unsigned int', possible loss of data [D:\\VisualFluidX3D\\FluidX3D\\FluidX3D.vcxproj]\n",
      "  D:\\VisualFluidX3D\\FluidX3D\\src\\lodepng.cpp(4890,91): warning C4267: 'argument': conversion from 'size_t' to 'unsigned int', possible loss of data [D:\\VisualFluidX3D\\FluidX3D\\FluidX3D.vcxproj]\n",
      "  D:\\VisualFluidX3D\\FluidX3D\\src\\lodepng.cpp(4891,75): warning C4267: 'argument': conversion from 'size_t' to 'unsigned int', possible loss of data [D:\\VisualFluidX3D\\FluidX3D\\FluidX3D.vcxproj]\n",
      "  D:\\VisualFluidX3D\\FluidX3D\\src\\lodepng.cpp(5074,2): warning C4267: 'argument': conversion from 'size_t' to 'unsigned int', possible loss of data [D:\\VisualFluidX3D\\FluidX3D\\FluidX3D.vcxproj]\n",
      "  D:\\VisualFluidX3D\\FluidX3D\\src\\lodepng.cpp(5098,4): warning C4267: 'argument': conversion from 'size_t' to 'unsigned int', possible loss of data [D:\\VisualFluidX3D\\FluidX3D\\FluidX3D.vcxproj]\n",
      "  D:\\VisualFluidX3D\\FluidX3D\\src\\lodepng.cpp(5132,60): warning C4267: 'argument': conversion from 'size_t' to 'unsigned int', possible loss of data [D:\\VisualFluidX3D\\FluidX3D\\FluidX3D.vcxproj]\n",
      "  D:\\VisualFluidX3D\\FluidX3D\\src\\lodepng.cpp(5149,2): warning C4267: 'argument': conversion from 'size_t' to 'unsigned int', possible loss of data [D:\\VisualFluidX3D\\FluidX3D\\FluidX3D.vcxproj]\n",
      "  D:\\VisualFluidX3D\\FluidX3D\\src\\lodepng.cpp(5171,55): warning C4267: 'argument': conversion from 'size_t' to 'unsigned int', possible loss of data [D:\\VisualFluidX3D\\FluidX3D\\FluidX3D.vcxproj]\n",
      "  D:\\VisualFluidX3D\\FluidX3D\\src\\lodepng.cpp(5202,55): warning C4267: 'argument': conversion from 'size_t' to 'unsigned int', possible loss of data [D:\\VisualFluidX3D\\FluidX3D\\FluidX3D.vcxproj]\n",
      "  D:\\VisualFluidX3D\\FluidX3D\\src\\lodepng.cpp(5315,55): warning C4267: 'argument': conversion from 'size_t' to 'unsigned int', possible loss of data [D:\\VisualFluidX3D\\FluidX3D\\FluidX3D.vcxproj]\n",
      "  D:\\VisualFluidX3D\\FluidX3D\\src\\lodepng.cpp(5403,32): warning C4334: '<<': result of 32-bit shift implicitly converted to 64 bits (was 64-bit shift intended?) [D:\\VisualFluidX3D\\FluidX3D\\FluidX3D.vcxproj]\n",
      "\n",
      "    23 Warning(s)\n",
      "    0 Error(s)\n",
      "\n",
      "Time Elapsed 00:00:03.26\n",
      "\n"
     ]
    }
   ],
   "source": [
    "compile_and_play_simulation()"
   ]
  }
 ],
 "metadata": {
  "kernelspec": {
   "display_name": "Python 3 (ipykernel)",
   "language": "python",
   "name": "python3"
  },
  "language_info": {
   "codemirror_mode": {
    "name": "ipython",
    "version": 3
   },
   "file_extension": ".py",
   "mimetype": "text/x-python",
   "name": "python",
   "nbconvert_exporter": "python",
   "pygments_lexer": "ipython3",
   "version": "3.12.1"
  }
 },
 "nbformat": 4,
 "nbformat_minor": 5
}
