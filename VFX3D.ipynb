{
 "cells": [
  {
   "cell_type": "markdown",
   "id": "b62d01bc-6712-41ac-96cd-dd3f4813b7f8",
   "metadata": {},
   "source": [
    "# Environment set-up"
   ]
  },
  {
   "cell_type": "markdown",
   "id": "67ad8918-ccdb-4b5b-91f8-be3124f49790",
   "metadata": {},
   "source": [
    "Import Libraries"
   ]
  },
  {
   "cell_type": "code",
   "execution_count": 1,
   "id": "672ba476-1dd3-4b94-828d-38ade85957f9",
   "metadata": {
    "jupyter": {
     "source_hidden": true
    }
   },
   "outputs": [],
   "source": [
    "import subprocess\n",
    "import os\n",
    "import sys\n",
    "import platform\n",
    "import shutil"
   ]
  },
  {
   "cell_type": "markdown",
   "id": "ad22e8a6-0d02-4570-847f-a3c64d8f4c4f",
   "metadata": {},
   "source": [
    "Define Function to Create and Setup Virtual Environment"
   ]
  },
  {
   "cell_type": "code",
   "execution_count": 2,
   "id": "62f798c3-86e3-419d-9271-1e0963f7a180",
   "metadata": {
    "jupyter": {
     "source_hidden": true
    }
   },
   "outputs": [],
   "source": [
    "def create_and_setup_virtual_environment():\n",
    "    venv_dir = 'myenv'\n",
    "    python_executable = sys.executable\n",
    "    \n",
    "    # Check if the virtual environment directory already exists\n",
    "    if os.path.exists(venv_dir):\n",
    "        # Remove the existing virtual environment directory\n",
    "        print(f\"Removing existing virtual environment directory '{venv_dir}'.\")\n",
    "        shutil.rmtree(venv_dir)\n",
    "    \n",
    "    # Create a new virtual environment\n",
    "    subprocess.run([python_executable, '-m', 'venv', venv_dir], check=True)\n",
    "    print(f\"Created a new virtual environment in '{venv_dir}'.\")\n",
    "\n",
    "    # Determine the path to the Python executable in the virtual environment\n",
    "    if platform.system() == 'Windows':\n",
    "        venv_python = os.path.join(venv_dir, 'Scripts', 'python')\n",
    "    else:\n",
    "        venv_python = os.path.join(venv_dir, 'bin', 'python')\n",
    "    \n",
    "    # Install Gradio in the new virtual environment\n",
    "    subprocess.run([venv_python, '-m', 'pip', 'install', 'gradio'], check=True)\n",
    "    print(\"Installed Gradio in the virtual environment.\")"
   ]
  },
  {
   "cell_type": "markdown",
   "id": "f69c9e81-14cb-4ec0-bf45-2080098bfe41",
   "metadata": {},
   "source": [
    "Create the Virtual Environment and Install Gradio"
   ]
  },
  {
   "cell_type": "code",
   "execution_count": 3,
   "id": "1c3d5261-2d41-4e9e-bd0b-057099dc36bf",
   "metadata": {
    "jupyter": {
     "source_hidden": true
    }
   },
   "outputs": [
    {
     "name": "stdout",
     "output_type": "stream",
     "text": [
      "Removing existing virtual environment directory 'myenv'.\n",
      "Created a new virtual environment in 'myenv'.\n",
      "Installed Gradio in the virtual environment.\n"
     ]
    }
   ],
   "source": [
    "create_and_setup_virtual_environment()"
   ]
  },
  {
   "cell_type": "markdown",
   "id": "79fa75a5-c0a9-44f8-bd88-531a083b485e",
   "metadata": {},
   "source": [
    "Define Function to Clone or Update Repository"
   ]
  },
  {
   "cell_type": "code",
   "execution_count": 4,
   "id": "0cf5160c-d204-44eb-a686-8ac4ac6977d2",
   "metadata": {
    "jupyter": {
     "source_hidden": true
    }
   },
   "outputs": [],
   "source": [
    "def clone_or_update_repository():\n",
    "    repo_url = 'https://github.com/ProjectPhysX/FluidX3D'\n",
    "    clone_dir = 'FluidX3D'\n",
    "    \n",
    "    if os.path.exists(clone_dir) and os.path.isdir(os.path.join(clone_dir, '.git')):\n",
    "        # If it's a Git repository, pull the latest changes\n",
    "        print(f\"Updating the repository in '{clone_dir}'.\")\n",
    "        subprocess.run(['git', '-C', clone_dir, 'pull'], check=True)\n",
    "    elif not os.path.exists(clone_dir):\n",
    "        # If the directory does not exist, clone the repository\n",
    "        subprocess.run(['git', 'clone', repo_url], check=True)\n",
    "    else:\n",
    "        # If the directory exists but is not a Git repository\n",
    "        print(f\"The directory '{clone_dir}' already exists and is not a git repository. Skipping clone.\")\n"
   ]
  },
  {
   "cell_type": "code",
   "execution_count": null,
   "id": "f0221559-f922-4424-8832-96ef60a33258",
   "metadata": {},
   "outputs": [],
   "source": []
  }
 ],
 "metadata": {
  "kernelspec": {
   "display_name": "Python 3 (ipykernel)",
   "language": "python",
   "name": "python3"
  },
  "language_info": {
   "codemirror_mode": {
    "name": "ipython",
    "version": 3
   },
   "file_extension": ".py",
   "mimetype": "text/x-python",
   "name": "python",
   "nbconvert_exporter": "python",
   "pygments_lexer": "ipython3",
   "version": "3.10.10"
  }
 },
 "nbformat": 4,
 "nbformat_minor": 5
}
